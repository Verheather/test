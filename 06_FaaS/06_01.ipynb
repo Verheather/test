{
    "cells": [
        {
            "cell_type": "markdown",
            "metadata": {
                "collapsed": false
            },
            "source": [
                "![Logo 1](https://git.wmi.amu.edu.pl/AITech/Szablon/raw/branch/master/Logotyp_AITech1.jpg)\n",
                "<div class=\"alert alert-block alert-info\">\n",
                "<h1> Praktyczne zastosowania chmury obliczeniowej </h1>\n",
                "<h2> 6.1. <i>Serverless</i>  [laboratoria]</h2> \n",
                "<h3> Patryk Żywica (2021)</h3>\n",
                "</div>\n",
                "\n",
                "![Logo 2](https://git.wmi.amu.edu.pl/AITech/Szablon/raw/branch/master/Logotyp_AITech2.jpg)"
            ]
        },
        {
            "attachments": {},
            "cell_type": "markdown",
            "metadata": {},
            "source": [
                "# Serverless\n",
                "\n",
                "## Czym jest Serverless i FaaS\n",
                "\n",
                "Serverless jest to model przetwarzania w chmurze, w którym to dostawca przydziela zasoby zgodnie z zapotrzebowaniem. Nazwę *serverless* (dosłownie bez serwerowy) należy interpretować z perspektywy klienta, dla którego istotny jest tylko kod aplikacji lub udostępniana usługa, a nie to gdzie i jak zostanie uruchomiony. Oczywiście serwery są nadal używane przez dostawcę chmury, który przejmuje w ten sposób odpowiedzialność za planowanie wydajności, skalowanie, konfigurację, konserwację oraz odporność na błędy. \n",
                "\n",
                "FaaS (ang. Function as a Service) to model przetwarzania w chmurze, w którym dostawca pozwala na wykonanie dowolnego kodu w kontrolowanym przez niego środowisku. Najczęściej znajduje zastosowanie przy tworzeniu systemów opartych na architekturze mikroserwisów. FaaS stanowi kluczowy element przy budowie systemów typu *serverless*, i często traktowany jest jako to samo pojęcie. W rzeczywistości *serverless* jest bardziej ogólne dotyczące budowy złożonych systemów informatycznych bez bezpośredniego alokowania zasobów obliczeniowych, podczas gdy FaaS to pojęcie znacznie węższe, obejmujące usługi zapewniające możliwość uruchamiania kodu aplikacji bez alokowania zasobów.\n",
                "\n",
                "Do cech charakterystycznych modelu *serverless*/FaaS należy zaliczyć:\n",
                "* **działanie w oparciu o zdarzenie**: system zbudowany w tym modelu nie jest uruchomiony w sposób ciągły, wykonuje operacje tylko w odpowiedzi na zdarzenia (ang. event)\n",
                "* **brak stanu**: każde zdarzenie obsługiwane jest w sposób niezależny, brak jest możliwości współdzielenia stanu pomiędzy poszczególnymi zdarzeniami. Jeśli jest to wymagane konieczne jest użycie centralnej bazy danych.\n",
                "* **silna integracja z dostawcą**: usługi tego typu są dostępne u wszystkich dużych dostawców chmury, jednak oferują one bardzo różne API\n",
                "\n",
                "## Historia\n",
                "\n",
                "Pierwsza powszechnie dostępna usługa działająca w modelu *serverless* to udostępniona w 2006 roku Zimki. Projekt został zamknięty rok później i nie odniósł sukcesu komercyjnego. W 2008 powstaje Google App Engine (GAE), które pozwala na zbudowanie w pełni bez serwerowej aplikacji webowej. GAE oferuje między innymi obsługę funkcji HTTP, przestrzeń dyskową oraz bazę danych. Wszystkie te usługi są jednak ściśle związane z tworzeniem aplikacji webowych.\n",
                "\n",
                "Za pierwszą w pełni ogólną usługę w modelu FaaS należy uznać AWS Lambda uruchomioną w 2014 roku. W kolejnych latach analogiczne usługi uruchomili pozostali najwięksi dostawcy chmury: Google Cloud Functions czy Azure Functions.\n",
                "\n",
                "\n",
                "# AWS Lambda\n",
                "\n",
                "Lambda jest usługą typu FaaS oferowaną przez Amazon. Jest na tyle popularna, że w pewnym sensie stała się synonimem FaaS. Ze względu na jej bardzo duża ogólność można ją traktować jako prototyp innych usług.\n",
                "\n",
                "Dla każdej funkcji w ramach AWS Lambda można zdefiniować wyzwalacze oraz akcję podejmowane po jej wywołaniu. Dzięki temu funkcje Lambda idealnie nadają się do umieszczania wewnątrz bardziej złożonych procesów przetwarzania danych.\n",
                "\n",
                "Wyzwalaczem dla funkcji Lambda może przykładowo być:\n",
                "* oddanie pliku do S3, np. w celu zaindeksowania jego treści\n",
                "* dodanie/zmiana danych w DynamoDB, np. w celu agregacji danych\n",
                "* kolejki wiadomości (SQS), co pozwala wywoływać funkcje Lambda w odpowiedzi na zdarzenia w systemie\n",
                "* żądanie HTTP (API Gateway, Aplication Load Balancer, Lambda URLs), co pozwala implementować API HTTP przez funkcje Lambda [4WAY]\n",
                "* czas, co pozwala wywoływać funkcje Lambda w określonych porach lub odstępach czasu\n",
                "\n",
                "Informacja o każdym wywołaniu funkcji Lambda może też zostać przekazana do innych serwisów, np. CloudWatch do monitorowania, a nawet do innej funkcji Lambda.\n",
                "\n",
                "Dla skonfigurowania usługi potrzebne jest podanie:\n",
                "* nazwy: unikalna w skali użytkownika i regionu\n",
                "* środowisko uruchomieniowe: dostępne jest wiele standardowych środowisk (Python, Go, JavaScript, Java itp), można też tworzyć własne, albo skorzystać z obrazów Docker\n",
                "* rola: pozwala przyznać uprawnienia dla funkcji do innych zasobów AWS\n",
                "* kod: standardową metodą przesyłania kodu są pliki .zip, można też kod edytować w przeglądarce\n",
                "* wymagania pamięć RAM: ilość pamięci będzie miała wypływ na koszt każdego wywołania funkcji\n",
                "* zmienne środowiskowe: pozwala przekazać do funkcji Lambda dodatkowe informacje\n",
                "\n",
                "Ograniczenia dla funkcji Lambda:\n",
                "* 1000 jednoczesnych wywołań per region (soft limit, można podnieść)\n",
                "* 75 GB na kod i biblioteki dla wszystkich funkcji Lambda per region (soft limit, można podnieść)\n",
                "* 10 GB RAM podczas wykonania funkcji (hard limit)\n",
                "* 15 minut timeout (hard limit)\n",
                "* 250 MB na kod i biblioteki po rozpakowaniu (hard limit)"
            ]
        },
        {
            "cell_type": "markdown",
            "metadata": {},
            "source": [
                "\n",
                "# Zadania do realizacji na zajęciach\n",
                "\n",
                "## Utworzenie funkcji Lambda\n",
                "\n",
                "1. Zaloguj się do AWS Web Console\n",
                "1. Przejdź do usługi Lambda\n",
                "1. Utwórz nową funkcję korzystając z opcji *Author from scratch*:\n",
                "    * runtime: Python 3.9\n",
                "    * architecture: x86_64\n",
                "    * permissions: Use an existing role -> LabRole\n",
                "\n",
                "    ![Ekran tworzenia nowej funkcji Lambda](obrazy/utworz-funkcje.png)\n",
                "1. Możesz przetestować funkcję wybierając opcję *Test* oraz konfigurując przykładowe zdarzenie, które zostanie przesłane do funkcji\n",
                "\n",
                "    ![Przykładowy kod funkcji Lambda](obrazy/kod-funkcji.png)\n",
                "    ![Wynik uruchomienia funkcji Lambda](obrazy/wynik-dzialania.png)\n",
                "1. Tak utworzona funkcja nie jest jeszcze opublikowana. Aby to zrobić trzeba z głównego menu wybrać `Actions -> Publish new version`. Ponieważ funkcja nie ma żadnego wyzwalacza można uruchomić ją wyłącznie ręcznie.\n",
                "\n",
                "## Konfiguracja wyzwalacza funkcji\n",
                "\n",
                "1. Dodaj `Application load balancer` tak aby funkcja Lambda wywoływana była przez żądania HTTP.\n",
                "\n",
                "1. Dodaj wyzwalacz typu EventBridge tak aby funkcja wywoływana była raz na minutę."
            ]
        },
        {
            "attachments": {},
            "cell_type": "markdown",
            "metadata": {},
            "source": [
                "# Literatura\n",
                "\n",
                "[4WAY] Pawel Zubkiewicz. [4 ways of executing Lambda function via HTTP endpoint - a comparison](https://dev.to/aws-builders/4-ways-of-executing-lambda-function-via-http-endpoint-a-comparison-560b). online 2022"
            ]
        }
    ],
    "metadata": {
        "author": "Patryk Żywica",
        "email": "bikol@amu.edu.pl",
        "kernelspec": {
            "display_name": "Python 3",
            "language": "python",
            "name": "python3"
        },
        "lang": "pl",
        "language_info": {
            "codemirror_mode": {
                "name": "ipython",
                "version": 3
            },
            "file_extension": ".py",
            "mimetype": "text/x-python",
            "name": "python",
            "nbconvert_exporter": "python",
            "pygments_lexer": "ipython3",
            "version": "3.10.6 (main, Aug 10 2022, 11:40:04) [GCC 11.3.0]"
        },
        "orig_nbformat": 4,
        "subtitle": "6.1.Serverless[laboratoria]",
        "title": "Praktyczne zastosowania chmury obliczeniowej",
        "vscode": {
            "interpreter": {
                "hash": "916dbcbb3f70747c44a77c7bcd40155683ae19c65e1c03b4aa3499c5328201f1"
            }
        },
        "year": "2021"
    },
    "nbformat": 4,
    "nbformat_minor": 2
}
