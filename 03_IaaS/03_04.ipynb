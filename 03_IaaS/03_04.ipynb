{
    "cells": [
        {
            "cell_type": "markdown",
            "metadata": {
                "collapsed": false
            },
            "source": [
                "![Logo 1](https://git.wmi.amu.edu.pl/AITech/Szablon/raw/branch/master/Logotyp_AITech1.jpg)\n",
                "<div class=\"alert alert-block alert-info\">\n",
                "<h1> Praktyczne zastosowania chmury obliczeniowej </h1>\n",
                "<h2> 3.4. <i>Infrastructure as a Service - Hetzner CLI</i>  [laboratoria]</h2> \n",
                "<h3> Patryk Żywica (2021)</h3>\n",
                "</div>\n",
                "\n",
                "![Logo 2](https://git.wmi.amu.edu.pl/AITech/Szablon/raw/branch/master/Logotyp_AITech2.jpg)"
            ]
        },
        {
            "cell_type": "markdown",
            "metadata": {},
            "source": [
                "# Zadania do realizacji w czasie zajęć\n",
                "\n",
                "W trakcie tych zajęć zautomatyzujemy instalację Wordpresa. Celem jest osiągnięcie tej samej konfiguracji co poprzednio, jednak tak aby wszystko zostało zainstalowane i uruchomione przy wykonaniu jednego skryptu.\n",
                "\n",
                "##\n"
            ]
        },
        {
            "cell_type": "markdown",
            "metadata": {},
            "source": [
                "## Instalacja CLI\n",
                "\n",
                "1. Pobierz najnowsze wydanie *hcloud* CLI: <https://github.com/hetznercloud/cli/releases/latest/download/hcloud-linux-amd64.tar.gz>. Pobrany plik rozpakuj\n",
                "    ```bash\n",
                "    tar -xvzf hcloud-linux-amd64.tar.gz\n",
                "    ```\n",
                "    Zweryfikuj działanie CLI:\n",
                "    ```bash\n",
                "    ./hcloud version\n",
                "    ```\n",
                "    \n",
                "    > **Wskazówka**: Pamiętaj, aby plik rozpakować w miejscu, w którym możliwe jest uruchamianie plików wykonywalnych.\n",
                "\n",
                "1. Dla łatwiejszego wpisywania poleceń w zalecane jest skonfigurowanie odpowiedniego autouzupełniania składni:\n",
                "\n",
                "    - bash:\n",
                "        ```bash\n",
                "        source <(./hcloud completion bash)\n",
                "        ```\n",
                "    - fish:\n",
                "        ```bash\n",
                "        ./hcloud completion fish | source\n",
                "        ```\n",
                "1. Przed użyciem konieczne jest udzielenie uprawnień naszemu narzędziu konsolowemu do naszego konta. Jedyną dostępną opcją jest wykorzystanie *tokenu* autoryzacyjnego.\n",
                "\n",
                "    ```bash\n",
                "    ./hcloud context create pzc\n",
                "    ```\n",
                "\n",
                "    Polecenie to zażąda od nas podania tokenu dostępowego. W tym celu należy wygenerować go korzystając z webowego interfejsu (projekt PZC -> zabezpieczenia -> tokeny API). Należy wybrać uprawnienia do odczytu i zapisu, bez tego nie będzie można tworzyć nowych zasobów.\n",
                "\n",
                "    > **Uwaga**: Należy pilnować bezpieczeństwa tokenu, co prawda nie daje on pełnych uprawnień do konta jak login i hasło, lecz wciąż umożliwia tworzenie dowolnych zasobów.\n",
                "\n",
                "    > **Uwaga**: Token zostanie zapisany w pliku `~/.config/hcloud/cli.toml`. Tam też trafiają pozostałe opcje konfiguracyjne.\n",
                "\n",
                "    ![](obrazy/hetzner-token.png)\n",
                "\n",
                "    Utworzony kontekst zostanie automatycznie aktywowany, od tego momentu wszystkie polecenia będą wykonywane w jego obrębie.\n",
                "\n",
                "1. Spróbujmy utworzyć nową maszynę wirtualną z wiersza poleceń.\n",
                "\n",
                "    ```bash\n",
                "    ./hcloud server create --image ubuntu-20.04 --type cx11 --name pzc-test-1 --location hel1\n",
                "    ```\n",
                "    \n",
                "    Listę dostępnych lokalizacji, obrazów systemu i typów instancji możesz uzyskać dzięki następującym poleceniom:\n",
                "    ```bash\n",
                "    ./hcloud locations list\n",
                "    ./hcloud image lsit\n",
                "    ./hcloud server-type list\n",
                "    ```\n",
                "\n",
                "1. Przykładowo proces utworzenia maszyny wirtualnej może wyglądać następująco\n",
                "    ```bash\n",
                "    $ ./hcloud server create --image ubuntu-20.04 --type cx11 --name pzc-test-1 --location hel1\n",
                "    4.551s [=================================] 100.00%\n",
                "    Waiting for server 14328689 to have started\n",
                "    ... done                                                                                                                                                                                     \n",
                "    Server 14328689 created\n",
                "    IPv4: 95.216.211.233\n",
                "    Root password: 7eN7CihrEvbuViciCmsq\n",
                "    ```\n",
                "\n",
                "    Zweryfikuj w przeglądarce czy maszyna wirtualna została rzeczywiście utworzona.\n",
                "\n",
                "1. Dokładne informacje o istniejącej maszynie można uzyskać dzięki poleceniu:\n",
                "    \n",
                "    ```bash\n",
                "    ./hcloud server describe pzc-test-1\n",
                "    ```\n",
                "\n",
                "1. Gdy maszyna nie jest już potrzebna można ją usunąć:\n",
                "    ```bash\n",
                "    ./hcloud server delete pzc-test-1\n",
                "\n",
                "> **Wskazówka**: W zadaniach domowych możesz założyć, że wszystkie te kroki zostały wykonane w katalogu `/dev/shm` oraz ze aktywny jest odpowiedni kontekst."
            ]
        },
        {
            "attachments": {},
            "cell_type": "markdown",
            "metadata": {},
            "source": [
                "## Biblioteka Python\n",
                "\n",
                "CLI jest bardzo wygodnym klasycznym rozwiązaniem, jednak nie zawsze jest wystarczająco elastyczne. Możliwy jest dostęp do zasobów chmurowych z poziomu języka programowania, większość dostawców dostarcza biblioteki dla najpopuparniejszych jezyków programowania.\n",
                "\n",
                "Dla chmury Hetzner dostępna jest przykładowo biblioteka dostępowa w języku Python: <https://github.com/hetznercloud/hcloud-python>. Analogicznie jak w przypadku CLI, konieczne jest posiadanie tokenu dostępowego (może być ten sam co poprzednio). Poniższy fragment kodu tworzy instancję interfejsu dostępowego do chmury:"
            ]
        },
        {
            "cell_type": "code",
            "execution_count": null,
            "metadata": {},
            "outputs": [],
            "source": [
                "!pip install hcloud\n",
                "\n",
                "from hcloud import Client\n",
                "client = Client(\n",
                "    token=\"ftGv4HLU2FsZCD9JEfN8suRh1X4rHImwCOJHP4eKsntvxGyjHR39ADgzYVrbw7m5\"\n",
                ")\n",
                "PREFIX = \"bikol\""
            ]
        },
        {
            "cell_type": "markdown",
            "metadata": {},
            "source": [
                "Analogicznie jak w CLI możemy utworzyć nową maszynę wirtualną:"
            ]
        },
        {
            "cell_type": "code",
            "execution_count": null,
            "metadata": {},
            "outputs": [],
            "source": [
                "from hcloud.images.domain import Image\n",
                "from hcloud.server_types.domain import ServerType\n",
                "\n",
                "response = client.servers.create(\n",
                "    name=f\"{PREFIX}-pzc-test\", server_type=ServerType(\"cx11\"), image=Image(name=\"ubuntu-20.04\")\n",
                ")\n",
                "print(f\"Utworzono serwer: {response.server.data_model.name} ({response.server.data_model.public_net.ipv4.ip})\")"
            ]
        },
        {
            "cell_type": "markdown",
            "metadata": {},
            "source": [
                "Po zakończeniu pracy można usunąć wszystkie stworzone serwery korzystając z prostego skryptu:"
            ]
        },
        {
            "cell_type": "code",
            "execution_count": null,
            "metadata": {},
            "outputs": [],
            "source": [
                "servers = client.servers.get_all()\n",
                "print(f\"Usuwanie {len(servers)} serwerów\")\n",
                "for s in servers:\n",
                "    if s.data_model.name.startswith(PREFIX):\n",
                "        action = client.servers.delete(s)\n",
                "        print(f\"Usuwanie serwera {s.data_model.name} ({s.data_model.public_net.ipv4.ip}): {action.data_model.status}\")"
            ]
        },
        {
            "cell_type": "markdown",
            "metadata": {},
            "source": [
                "## Automatyzacja instalacji Wordpress\n",
                "\n",
                "Przejdziemy teraz do realizacji głównego zadania przewidzianego na dzisiejsze zajęcia. Analogicznie jak na poprzednich zajęciach chcemy uzyskać instalację Wordpresa wraz z konfigurowanym równoważeniem obciążenia, zgodnie z poniższym schematem:\n",
                "\n",
                "![](obrazy/wp-etap3.png)\n",
                "\n",
                "Tworzenie instalacji Wordpress rozpoczynamy od dodania klucza SSH do naszego konta."
            ]
        },
        {
            "cell_type": "code",
            "execution_count": null,
            "metadata": {},
            "outputs": [],
            "source": [
                "YOUR_LOCAL_SSH_PUBKEY = \"ssh-ed25519 AAAAC3NzaC1lZDI1NTE5AAAAIGp+fHAUaes24byONTQI5dDRhYIOIKQuwL0iJzax32+h bikol@a0-1\"\n",
                "\n",
                "ssh_key = client.ssh_keys.create(name=f\"{PREFIX}-pzc-ssh-key\", public_key=YOUR_LOCAL_SSH_PUBKEY)\n",
                "print(f\"Klucz {ssh_key.data_model.name} został dodany: {ssh_key.data_model.public_key}\")"
            ]
        },
        {
            "cell_type": "markdown",
            "metadata": {},
            "source": [
                "Teraz przystępujemy do tworzenia właściwych zasobów. Zacznijmy od wirtualnej sieci:"
            ]
        },
        {
            "cell_type": "code",
            "execution_count": null,
            "metadata": {},
            "outputs": [],
            "source": [
                "from hcloud.networks.domain import NetworkSubnet\n",
                "\n",
                "vnet = client.networks.create(\n",
                "    name=f\"{PREFIX}-pzc-test-vnet\", \n",
                "    ip_range=\"10.10.10.0/24\", \n",
                "    subnets=[\n",
                "        NetworkSubnet(ip_range=\"10.10.10.0/24\", network_zone=\"eu-central\", type=\"cloud\")\n",
                "    ]\n",
                ")\n",
                "print(f\"Utworzono sieć wirtualną {vnet.data_model.name} ({vnet.data_model.ip_range})\")"
            ]
        },
        {
            "attachments": {},
            "cell_type": "markdown",
            "metadata": {},
            "source": [
                "Kolejnym etapem jest utworzenie maszyn wirtualnych. Skorzystamy z narzędzia [cloud-init](https://cloud-init.io/) aby móc automatycznie nie tylko stworzyć maszynę, ale również zainstalować i uruchomić na niej pożądane oprogramowanie. Konfiguracja z wykorzystaniem `cloud-init` pozwala zdefiniować co ma być wykonane po utworzeniu maszyny wirtualnej. Ważne jest to, że wszystko zostanie wykonane automatycznie bez potrzeby logowania się przez SSH czy innej interakcji z serwerem. `cloud-init` pozwala na wykonanie dowolnych operacji na serwerze. Służy do tego sekcja `runcmd`, w której definiujemy polecenia jakie mają zostać wykonane w konsoli. Dla uproszczenia najczęściej wykonywane zadania mają przewidzianą osobną składnie. Przykładowo można\n",
                "\n",
                "- tworzyć nowych użytkowników i grupy\n",
                "- dodawać i modyfikować pliki\n",
                "- instalować nowe oprogramowania i dodawać nowe repozytoria\n",
                "- zarządzać zaufanymi certyfikatami\n",
                "- zarządzać zamontowanymi zasobami dyskowymi\n",
                "- zarządzać kluczami SSH\n",
                "\n",
                "Na potrzeby tego zadania wykorzystamy tylko część z dostępnych możliwości. Ponadto wykorzystamy tylko jeden z wielu możliwych formatów konfiguracji `cloud-init` o nazwie `cloud config`."
            ]
        },
        {
            "cell_type": "code",
            "execution_count": null,
            "metadata": {},
            "outputs": [],
            "source": [
                "cloud_init_db=r'''#cloud-config\n",
                "\n",
                "# lista podstawowych pakietów, które należy zainstalować\n",
                "packages:\n",
                "  - apt-transport-https\n",
                "  - ca-certificates\n",
                "  - curl\n",
                "  - gnupg-agent\n",
                "  - software-properties-common\n",
                "\n",
                "# tworzymy plik docker-compose.yml\n",
                "write_files:\n",
                "  - path: /root/docker-compose.yml\n",
                "    content: |\n",
                "        version: '3.9'\n",
                "\n",
                "        services:\n",
                "          db:\n",
                "              image: mysql:5.7\n",
                "              restart: always\n",
                "              ports:\n",
                "                - \"10.10.10.2:3306:3306\"\n",
                "              environment:\n",
                "                MYSQL_ROOT_PASSWORD: notSecureChangeMe\n",
                "                MYSQL_DATABASE: wordpress\n",
                "                MYSQL_USER: wordpress\n",
                "                MYSQL_PASSWORD: wordpress\n",
                "              volumes:\n",
                "                - db_data:/var/lib/mysql\n",
                "\n",
                "          phpmyadmin:\n",
                "              image: phpmyadmin\n",
                "              restart: always\n",
                "              # przekierowanie portów zostawione tylko dla przykładu, nie należy tak robić na produkcji\n",
                "              ports:\n",
                "                - \"8080:80\"\n",
                "        volumes:\n",
                "          db_data: {}\n",
                "\n",
                "# instalujemy docker i docker-compose, a następnie uruchamiamy naszą bazę danych\n",
                "runcmd:\n",
                "  - curl -fsSL https://download.docker.com/linux/ubuntu/gpg | apt-key add -\n",
                "  - add-apt-repository \"deb [arch=amd64] https://download.docker.com/linux/ubuntu $(lsb_release -cs) stable\"\n",
                "  - apt-get update -y\n",
                "  - apt-get install -y docker-ce docker-ce-cli containerd.io\n",
                "  - curl -L \"https://github.com/docker/compose/releases/download/1.29.2/docker-compose-$(uname -s)-$(uname -m)\" -o /usr/local/bin/docker-compose\n",
                "  - chmod +x /usr/local/bin/docker-compose\n",
                "  - systemctl start docker\n",
                "  - systemctl enable docker\n",
                "  - cd /root/ && docker-compose up -d\n",
                "'''"
            ]
        },
        {
            "cell_type": "code",
            "execution_count": null,
            "metadata": {},
            "outputs": [],
            "source": [
                "from hcloud.locations.domain import Location\n",
                "\n",
                "db_server = client.servers.create(\n",
                "    name=f\"{PREFIX}-db\", \n",
                "    server_type=ServerType(\"cx11\"), \n",
                "    image=Image(name=\"ubuntu-20.04\"), \n",
                "    ssh_keys=[ssh_key], \n",
                "    networks=[vnet], \n",
                "    location=Location(\"hel1\"), \n",
                "    user_data=cloud_init_db\n",
                ")\n",
                "\n",
                "db_server.action.wait_until_finished()\n",
                "print(f\"Tworzenie serwera db: {db_server.action.complete}\")"
            ]
        },
        {
            "cell_type": "markdown",
            "metadata": {},
            "source": [
                "Serwer został utworzony, możemy pobrać z systemu jego aktualne dane (w tym adres IP).\n",
                "\n",
                "> **Uwaga** W skrypcie `cloud-init` przyjeliśmy, że maszyna będzie miała przydzielony adres IP `10.10.10.2`, jeśli tak się nie stało to w dalszych krokach Wordpress może mieć problem z kominukacją z bazą danych."
            ]
        },
        {
            "cell_type": "code",
            "execution_count": null,
            "metadata": {},
            "outputs": [],
            "source": [
                "db_server = client.servers.get_by_name(f\"{PREFIX}-db\")\n",
                "print(f\"Serwer: {db_server.data_model.name}\\n\\tpubliczne IP: {db_server.data_model.public_net.ipv4.ip}\\n\\tprywatne IP: {db_server.data_model.private_net[0].ip}\")"
            ]
        },
        {
            "cell_type": "markdown",
            "metadata": {},
            "source": [
                "Na tym etapie możesz zweryfikować, że wszystko działa jak należy. Odwiedź w przeglądarce `http://<publiczny adres IP>:8080`.\n",
                "\n",
                "> **Uwaga**: Utworzenie maszyny wirtualnej trwa zaledwie kilka sekund, jednak wykonanie całego skryptu `cloud-init` może potrwać nawet kilka minut. Jeśli serwer nadal nie odpowiada pod wskazanym adresem, poczekaj kilka minut.\n",
                "\n",
                "> **Wskazówka**: Jeśli coś się nie powiodło i chcesz sprawdzić co poszło nie tak, zawsze możesz zalogować się na maszynę wirtualną korzystając z SSH. Warto wtedy sprawdzić zawartość pliku `/var/log/cloud-init.log`."
            ]
        },
        {
            "cell_type": "markdown",
            "metadata": {},
            "source": [
                "Przystępujemy do kolejnego kroku czyli utworzenia pierwszej instancji Wordpress. Skrypt `cloud-init` różni się tylko treścią pliku `docker-compose.yml`, pozostała część skryptu pozostaje bez zmian."
            ]
        },
        {
            "cell_type": "code",
            "execution_count": null,
            "metadata": {},
            "outputs": [],
            "source": [
                "cloud_init_wp1=r'''#cloud-config\n",
                "\n",
                "# lista podstawowych pakietów, które należy zainstalować\n",
                "packages:\n",
                "  - apt-transport-https\n",
                "  - ca-certificates\n",
                "  - curl\n",
                "  - gnupg-agent\n",
                "  - software-properties-common\n",
                "\n",
                "# tworzymy plik docker-compose.yml\n",
                "write_files:\n",
                "  - path: /root/docker-compose.yml\n",
                "    content: |\n",
                "        version: '3.9'\n",
                "\n",
                "        services:\n",
                "          wordpress:\n",
                "            image: wordpress:latest\n",
                "            volumes:\n",
                "              - wordpress_data:/var/www/html\n",
                "            ports:\n",
                "              - \"8000:80\"\n",
                "            restart: always\n",
                "            environment:\n",
                "              WORDPRESS_DB_HOST: \"10.10.10.2:3306\"\n",
                "              WORDPRESS_DB_USER: wordpress\n",
                "              WORDPRESS_DB_PASSWORD: wordpress\n",
                "              WORDPRESS_DB_NAME: wordpress\n",
                "              \n",
                "        volumes:\n",
                "          wordpress_data: {}\n",
                "\n",
                "# instalujemy docker, docker-compose a następnie uruchamiamy naszą bazę danych\n",
                "runcmd:\n",
                "  - curl -fsSL https://download.docker.com/linux/ubuntu/gpg | apt-key add -\n",
                "  - add-apt-repository \"deb [arch=amd64] https://download.docker.com/linux/ubuntu $(lsb_release -cs) stable\"\n",
                "  - apt-get update -y\n",
                "  - apt-get install -y docker-ce docker-ce-cli containerd.io\n",
                "  - curl -L \"https://github.com/docker/compose/releases/download/1.29.2/docker-compose-$(uname -s)-$(uname -m)\" -o /usr/local/bin/docker-compose\n",
                "  - chmod +x /usr/local/bin/docker-compose\n",
                "  - systemctl start docker\n",
                "  - systemctl enable docker\n",
                "  - cd /root/ && docker-compose up -d\n",
                "'''\n",
                "wp1_server = client.servers.create(\n",
                "    name=f\"{PREFIX}-wordpress-1\", \n",
                "    server_type=ServerType(\"cx11\"), \n",
                "    image=Image(name=\"ubuntu-20.04\"), \n",
                "    ssh_keys=[ssh_key], \n",
                "    networks=[vnet], \n",
                "    location=Location(\"hel1\"), \n",
                "    user_data=cloud_init_wp1\n",
                ")\n",
                "\n",
                "wp1_server.action.wait_until_finished()\n",
                "print(f\"Tworzenie serwera wordpress-1: {wp1_server.action.complete}\")"
            ]
        },
        {
            "cell_type": "code",
            "execution_count": null,
            "metadata": {},
            "outputs": [],
            "source": [
                "wp1_server = client.servers.get_by_name(f\"{PREFIX}-wordpress-1\")\n",
                "print(f\"Serwer: {wp1_server.data_model.name}\\n\\tpubliczne IP: {wp1_server.data_model.public_net.ipv4.ip}\\n\\tprywatne IP: {wp1_server.data_model.private_net[0].ip}\")"
            ]
        },
        {
            "cell_type": "markdown",
            "metadata": {},
            "source": [
                "Przejdź teraz w przeglądarce pod `http://<publiczny adres IP serwera wordpress-1>:8000` i dokończ instalację Wordpress.\n",
                "\n",
                "> **Uwaga**: Z pewnością możliwe jest zautomatyzowanie tego kroku, jednak wykracza to poza zakres tych zajęć.\n",
                "\n",
                "Teraz musimy utworzyć migawkę tej maszyny wirtualnej a następnie użyć jej do utworzenia nowej maszyny wirtualnej."
            ]
        },
        {
            "cell_type": "code",
            "execution_count": null,
            "metadata": {},
            "outputs": [],
            "source": [
                "response = wp1_server.power_off()\n",
                "response.wait_until_finished()\n",
                "print(\"Serwer wordpress-1 zatrzymany\")\n",
                "\n",
                "response = client.servers.create_image(\n",
                "    server=wp1_server\n",
                ")\n",
                "response.action.wait_until_finished()\n",
                "wp1_image = response.image\n",
                "print(f\"Utworzono migawkę serwera wordpress-1: {response.action.complete}\")\n",
                "\n",
                "\n",
                "response = wp1_server.power_on()\n",
                "response.wait_until_finished()\n",
                "print(\"Serwer wordpress-1 uruchomiony\")"
            ]
        },
        {
            "cell_type": "code",
            "execution_count": null,
            "metadata": {},
            "outputs": [],
            "source": [
                "wp2_server = client.servers.create(\n",
                "    name=f\"{PREFIX}-wordpress-2\", \n",
                "    server_type=ServerType(\"cx11\"), \n",
                "    image=wp1_image, # tutaj wykorzystujemy utworzoną wcześniej migawkę\n",
                "    ssh_keys=[ssh_key], \n",
                "    networks=[vnet], \n",
                "    location=Location(\"hel1\") # tym razem nie ma potrzeby podawać skryptu cloud-init\n",
                ")\n",
                "wp2_server.action.wait_until_finished()\n",
                "print(f\"Tworzenie serwera wordpress-2: {wp2_server.action.complete}\")"
            ]
        },
        {
            "cell_type": "code",
            "execution_count": null,
            "metadata": {},
            "outputs": [],
            "source": [
                "wp2_server = client.servers.get_by_name(f\"{PREFIX}-wordpress-2\")\n",
                "print(f\"Serwer: {wp2_server.data_model.name}\\n\\tpubliczne IP: {wp2_server.data_model.public_net.ipv4.ip}\\n\\tprywatne IP: {wp2_server.data_model.private_net[0].ip}\")"
            ]
        },
        {
            "cell_type": "markdown",
            "metadata": {},
            "source": [
                "Ostatnim krokiem jest konfiguracja mechanizmu równoważenia obciążenia."
            ]
        },
        {
            "cell_type": "code",
            "execution_count": null,
            "metadata": {},
            "outputs": [],
            "source": [
                "from hcloud.load_balancer_types.domain import LoadBalancerType\n",
                "from hcloud.load_balancers.domain import LoadBalancerAlgorithm, LoadBalancerServiceHttp, LoadBalancerHealthCheck, LoadBalancerService, LoadBalancerHealtCheckHttp, LoadBalancerTarget\n",
                "\n",
                "wp1_server = client.servers.get_by_name(f\"{PREFIX}-wordpress-1\")\n",
                "wp2_server = client.servers.get_by_name(f\"{PREFIX}-wordpress-2\")\n",
                "\n",
                "lb = client.load_balancers.create(\n",
                "    name=f\"{PREFIX}-lb-wp\", \n",
                "    load_balancer_type=LoadBalancerType(name=\"lb11\"),\n",
                "    location=Location(\"hel1\"),\n",
                "    services=[\n",
                "        LoadBalancerService(\n",
                "            protocol=\"http\", \n",
                "            listen_port=8000, \n",
                "            destination_port=8000, \n",
                "            proxyprotocol=False, \n",
                "            health_check=LoadBalancerHealthCheck(\n",
                "                protocol=\"http\", \n",
                "                port=\"8000\", \n",
                "                interval=15, \n",
                "                timeout=10, \n",
                "                retries=3, \n",
                "                http=LoadBalancerHealtCheckHttp(\n",
                "                    path=\"/\", \n",
                "                    status_codes=[\"2??\", \"3??\"], \n",
                "                    tls=False\n",
                "                )\n",
                "            ),\n",
                "            http=LoadBalancerServiceHttp(\n",
                "                sticky_sessions=True,\n",
                "                cookie_name=\"HCLBSTICKY\",\n",
                "                cookie_lifetime=300,\n",
                "                certificates=[]\n",
                "            )\n",
                "        )\n",
                "    ],\n",
                "    targets=[\n",
                "        LoadBalancerTarget(\n",
                "            type=\"server\",\n",
                "            server=wp1_server,\n",
                "            use_private_ip=True\n",
                "        ), \n",
                "        LoadBalancerTarget(\n",
                "            type=\"server\",\n",
                "            server=wp2_server,\n",
                "            use_private_ip=True\n",
                "        )\n",
                "    ],\n",
                "    public_interface=True,\n",
                "    network=vnet\n",
                ")\n",
                "lb.action.wait_until_finished()\n",
                "print(f\"Mechanizm równoważenia obciążenia został utworzony: {lb.action.complete}\")\n"
            ]
        },
        {
            "cell_type": "code",
            "execution_count": null,
            "metadata": {},
            "outputs": [],
            "source": [
                "lb = client.load_balancers.get_by_name(f\"{PREFIX}-lb-wp\")\n",
                "print(f\"Publiczny adres IP: {lb.data_model.public_net.ipv4.ip}\")"
            ]
        },
        {
            "cell_type": "markdown",
            "metadata": {},
            "source": [
                "Zweryfikuj instalację w przeglądarce pod adresem: `http://<publiczny adres IP LB>:8000`.\n",
                "\n",
                "Udało się uzyskać konfigurację analogiczną jak poprzednio, tym razem jednak całość została wykonana za pomocą skryptu w języku Python. Pokazuje to jak bardzo elastyczne może być pracowanie w chmurze w modelu IaaS.\n",
                "\n",
                "**Po zakończeniu pracy rekomenduje usunięcie wszystkich utworzonych zasobów.**"
            ]
        },
        {
            "cell_type": "code",
            "execution_count": null,
            "metadata": {},
            "outputs": [],
            "source": [
                "lbs = client.load_balancers.get_all()\n",
                "print(f\"Usuwanie {len(lbs)} mechanizmów LB\")\n",
                "for s in lbs:\n",
                "    if s.data_model.name.startswith(PREFIX):\n",
                "        action = client.load_balancers.delete(s)\n",
                "        print(f\"\\tUsuwanie LB {s.data_model.name}: {action}\")\n",
                "\n",
                "servers = client.servers.get_all()\n",
                "print(f\"Usuwanie {len(servers)} serwerów\")\n",
                "for s in servers:\n",
                "    if s.data_model.name.startswith(PREFIX):\n",
                "        action = client.servers.delete(s)\n",
                "        print(f\"\\tUsuwanie serwera {s.data_model.name} ({s.data_model.public_net.ipv4.ip}): {action.data_model.status}\")\n",
                "\n",
                "ssh_keys = client.ssh_keys.get_all()\n",
                "print(f\"Usuwanie {len(ssh_keys)} kluczy SSH\")\n",
                "for s in ssh_keys:\n",
                "    if s.data_model.name.startswith(PREFIX):\n",
                "        action = client.ssh_keys.delete(s)\n",
                "        print(f\"\\tUsuwanie klucza {s.name}: {action}\")\n",
                "\n",
                "vnets = client.networks.get_all()\n",
                "print(f\"Usuwanie {len(vnets)} sieci wirtualnych\")\n",
                "for s in vnets:\n",
                "    if s.data_model.name.startswith(PREFIX):\n",
                "        action = client.networks.delete(s)\n",
                "        print(f\"\\tUsuwanie sieci wirtualnej {s.name}: {action}\")\n",
                "\n",
                "volumes = client.volumes.get_all()\n",
                "print(f\"Usuwanie {len(volumes)} wolumenów\")\n",
                "for v in volumes:\n",
                "    if s.data_model.name.startswith(PREFIX):\n",
                "        action = client.volumes.delete(v)\n",
                "        print(f\"\\tUsuwanie wolumenu {v.name}: {action}\")\n"
            ]
        },
        {
            "attachments": {},
            "cell_type": "markdown",
            "metadata": {},
            "source": [
                "Dla kompletności można tez usunać wszystkie migawki, te jednak nie posiadają nazwy, zatem usunięte zostaną wszystkie.\n",
                "\n",
                "> Hetzner niedawno dodał obsługę etykiet dla wszytkich zasobów (labels). Zapewne jest to znacznie lepsze rozwiązanie dla problemu oznaczania zasobów."
            ]
        },
        {
            "cell_type": "code",
            "execution_count": null,
            "metadata": {},
            "outputs": [],
            "source": [
                "images = client.images.get_all(type=\"snapshot\")\n",
                "print(f\"Usuwanie {len(images)} migawek\")\n",
                "for s in images:\n",
                "    if s.data_model.name.startswith(PREFIX):\n",
                "        action = client.images.delete(s)\n",
                "        print(f\"\\tUsuwanie migawki {s.data_model.name}: {action}\")"
            ]
        }
    ],
    "metadata": {
        "author": "Patryk Żywica",
        "email": "bikol@amu.edu.pl",
        "kernelspec": {
            "display_name": "Python 3.10.6 64-bit",
            "language": "python",
            "name": "python3"
        },
        "lang": "pl",
        "language_info": {
            "codemirror_mode": {
                "name": "ipython",
                "version": 3
            },
            "file_extension": ".py",
            "mimetype": "text/x-python",
            "name": "python",
            "nbconvert_exporter": "python",
            "pygments_lexer": "ipython3",
            "version": "3.8.10"
        },
        "subtitle": "3.4.Infrastructure as a Service - Hetzner CLI[laboratoria]",
        "title": "Praktyczne zastosowania chmury obliczeniowej",
        "vscode": {
            "interpreter": {
                "hash": "916dbcbb3f70747c44a77c7bcd40155683ae19c65e1c03b4aa3499c5328201f1"
            }
        },
        "year": "2021"
    },
    "nbformat": 4,
    "nbformat_minor": 4
}
