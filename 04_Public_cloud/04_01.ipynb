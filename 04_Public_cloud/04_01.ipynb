{
    "cells": [
        {
            "cell_type": "markdown",
            "metadata": {
                "collapsed": false
            },
            "source": [
                "![Logo 1](https://git.wmi.amu.edu.pl/AITech/Szablon/raw/branch/master/Logotyp_AITech1.jpg)\n",
                "<div class=\"alert alert-block alert-info\">\n",
                "<h1> Praktyczne zastosowania chmury obliczeniowej </h1>\n",
                "<h2> 4.1. <i>Kompleksowa publiczna chmura obliczeniowa - cz. 1</i>  [laboratoria]</h2> \n",
                "<h3> Patryk Żywica (2021)</h3>\n",
                "</div>\n",
                "\n",
                "![Logo 2](https://git.wmi.amu.edu.pl/AITech/Szablon/raw/branch/master/Logotyp_AITech2.jpg)"
            ]
        },
        {
            "cell_type": "markdown",
            "metadata": {},
            "source": [
                "# Kompleksowa publiczna chmura obliczeniowa - cz. 1\n",
                "\n",
                "Niniejszy moduł przedstawia usługi oferowane w ramach Amazon Web Services (AWS). Przedstawione zostaną podstawowe pojęcia związane z tym dostawcą chmury obliczeniowej. Dla dobrego zrozumienia przedstawionego tu materiału niezbędne jest posiadanie podstawowe wiedzy o modelu IaaS przedstawionej w poprzednim module."
            ]
        },
        {
            "cell_type": "markdown",
            "metadata": {},
            "source": [
                "# Amazon Web Services\n",
                "\n",
                "AWS jest największym na świecie dostawcą usług chmurowych. Oferuje usługi na różnym poziomie zaawansowania i automatyzacji, w modelu IaaS, PaaS oraz SaaS. Jedną z cech charakterystycznych jest silna integracja wszystkich usług oraz hierarchiczna struktura zasobów (zasoby bardziej abstrakcyjne budowane są na bazie zasobów podstawowych).\n",
                "\n",
                "\n",
                "## Usługi i kategorie usług AWS:\n",
                "\n",
                "Amazon Web Services oferuje usługi, które można zgrupować w kilka kategorii:\n",
                "\n",
                "1. Infrastruktura: regiony, AZ, Edge locations\n",
                "1. Usługi bazowe: moc obliczeniowa (EC2, automatic scaling, load balancing), sieć (VPC), przechowywanie danych (obiektowe, blokowe, archiwalne)\n",
                "1. PaaS: bazy danych (relacyjne, NoSQL, pamięć podręczna), Analityka (data warehouse), usługi dla aplikacji (email, wyszukiwanie), zarządzanie wdrożeniem (DevOps, kontenery, usługi mobilne\n",
                "1. SaaS: wirtualny pulpit zdalny, webowe IDE, email korporacyjny, współpraca i udostępnienia plików\n",
                "\n",
                "## AWS Cloud Adoption Framework (AWS CAF)\n",
                "\n",
                "Amazon zaleca, aby przed migracją do chmury AWS, rozważyć wszystkie za i przeciw. W celu ułatwienia tego procesu dostępny jest tak zwany Cloud Adoption Framework. Obejmuje on 6 perspektyw pogrupowanych w dwa obszary (capabilities):\n",
                "\n",
                "1. obszar biznesu:\n",
                "   - potrzeby biznesowe: czy obszary zastosowania chmury obliczeniowej pokrywają się z działalnością organizacji\n",
                "   - ludzie: czy role i struktura organizacyjna odpowiada wymaganiom chmury obliczeniowej\n",
                "   - zarządzanie: czy przyjęty model zarządzania organizacją jest wystarczająco elastyczny, aby skorzystać z na migracji do chmury\n",
                "1. obszar techniczny:\n",
                "   - platforma - czy zasoby dostępne w chmurze odpowiadają wymaganiom technicznym, czy architektura istniejących systemów jest odpowiednia dla chmury obliczeniowej\n",
                "   - bezpieczeństwo - czy wymagania bezpieczeństwa i poufności danych mogą być spełnione w chmurze obliczeniowej\n",
                "   - działalność operacyjna - czy możliwe będzie prowadzenie codziennej/miesięcznej/kwartalnej działalności operacyjnej\n"
            ]
        },
        {
            "cell_type": "markdown",
            "metadata": {},
            "source": [
                "## Cennik AWS\n",
                "\n",
                "Cennik usług AWS jest bardzo złożony, każda usługa ma swoje zasady naliczania opłat. Jednak pewne zasady są ogólne, można wyróżnić 3 główne obszary kosztów:\n",
                "\n",
                "1. Moc obliczeniowa: opłata naliczana w godzinach lub sekundach\n",
                "1. Przechowywanie danych: oplata naliczana za każdy przechowywany GB danych w jednostce czasu\n",
                "1. Transfer danych: ruch wychodzący jest płatny za każdy GB (ruch przychodzący jest darmowy)\n",
                "\n",
                "Ponadto, Amazon ustalając ceny kieruje się następującymi zasadami:\n",
                "1. Usługi w modelu pay-as-you-go: pozwala to być elastycznym bez dużych wydatków początkowych i kontraktów długoterminowych\n",
                "1. Płacisz mniej jak używasz więcej: w wielu usługach cena za 1 jednostkę spada wraz ze wzrostem zużycia\n",
                "1. Darmowy dostęp (free tier): każdy nowy klient otrzymuje roczny pakiet darmowych zasobów, które może dowolnie wykorzystać\n",
                "1. Darmowe usługi dodatkowe: AWS oferuje wiele darmowych usług, które ułatwiają korzystanie z płatnych zasobów\n",
                "\n",
                "\n",
                "Maszyny wirtualne można wynajmować w kilku modelach:\n",
                "* **on-demand**: standardowo naliczanie per godzina, per second tylko dla Amazon Linux albo Ubuntu, minimalnie 1 minuta,\n",
                "* **dedicated**: naliczanie wedle zużycia, zasoby są alokowane na dedykowanych fizycznych serwerach\n",
                "* **reserved**: wynajem długotrwały na 1 lub 3 lata, znacznie obniża koszty, ale trzeba płacić nawet w przypadku braku wykorzystania zasobów\n",
                "* **scheduled**: roczna umowa, maszyna wirtualna zawsze dostępna zgodnie z harmonogramem\n",
                "* **spot**: licytacja, brak gwarancji dostępności i ciągłości, wyłącznie w dowolnym momencie z 2 minutowym uprzedzeniem, najniższa cena\n",
                "\n",
                "Jak optymalizować koszty EC2 w AWS:\n",
                "* **wybór odpowiedniego rozmiaru VM**: można wykorzystać CloudWatch w celu identyfikacji niewłaściwie obciążonych instancji, po zidentyfikowaniu wymaganych parametrów i ustabilizowaniu wymagań można przejść na model reserved\n",
                "- **zwiększenie elastyczności**: wyłączanie/hibernowanie nie wykorzystywanych VM, konfiguracja autoskalowania\n",
                "- **właściwy model naliczania opłat**: połączenie on-demand + reserved albo on-demand + spot dla usług wspierających skalowanie o zmiennym obciążeniu\n",
                "- **wybor odpowiedniego storage**: minimalizacja wykorzystania dysków EBS; zmiana dysków SSD na HDD; usuwanie zbędnych migawek, migracje danych do S3\n",
                "\n",
                "## Współdzielony model odpowiedzialności\n",
                "\n",
                "AWS jasno określa za co odpowiada i jakie są odpowiedzialności klienta. Zasady te sformułowane są w tak zwanym Współdzielonym modelu odpowiedzialności (ang. shared responsibility model). Zgodnie z nim:\n",
                "\n",
                "- klient odpowiada za bezpieczeństwo wewnątrz chmury:\n",
                "     - dane\n",
                "     - platforma\n",
                "     - oprogramowanie\n",
                "     - kontrola dostępu\n",
                "     - system\n",
                "     - firewall\n",
                "     - szyfrowanie danych\n",
                "     - szyfrowanie komunikacji sieciowej\n",
                "- Amazon Web Services odpowiada za bezpieczeństwo chmury:\n",
                "     - oprogramowanie i sprzęt\n",
                "     - infrastruktura i fizyczne bezpieczeństwo, \n",
                "     - bezpieczeństwo  wirtualizacji\n",
                "     - sieć\n",
                "\n",
                "## Wsparcie techniczne\n",
                "- basic: darmowy, dokumentacja online\n",
                "- dev (czas odpowiedzi do 12h): nielitowana liczba zgłoszeń serwisowych\n",
                "- bussiness (czas odpowiedzi do 1h): pełny dostęp do Trusted Advior oraz API do Support Center\n",
                "- enterprise (czas odpowiedzi do 15min): przydzielony Technical Account Manager\n"
            ]
        },
        {
            "cell_type": "markdown",
            "metadata": {},
            "source": [
                "## Infrastruktura\n",
                "Infrastruktura AWS składa się z tak zwanych regionów (ang. region). Region to lokalizacja geograficzna, np. wschodnie USA (us-east). Obecnie publicznie dostępne są 22 regiony (część z nich jest domyślnie wyłączona, ale można je aktywować). Ponadto istnieją regiony prywatne (np. dla administracji rządowej USA). \n",
                "\n",
                "W ramach danego regionu znajduje się kilka stref dostępności (ang. availibity zone, AZ). Wszystkich AZ jest 69. Strefy dostępności rozlokowane są w danym regionie geograficznym w taki sposób, aby były możliwie od siebie niezależne (oddalone o kilkadziesiąt kilometrów, niezależne zasilanie, podłączenie do Internetu). Poszczególne strefy dostępności w ramach regionu połączone są również bardzo szybką prywatną siecią światłowodową.\n",
                "\n",
                "W ramach danej strefy dostępności znajduje się wiele (najczęściej 3) centrów danych (ang. datacenter, DC). W jednym DC znajduje się około 50000-60000 fizycznych serwerów. Klienci nie mają możliwości wpływu na wybór konkretnego DC. \n",
                "\n",
                "Strefy dostępności należy wykorzystywać w celu uzyskania większej odporności na awarie. Ponadto, dane nie są automatycznie replikowane poza dany region, trzeba to zrobić ręcznie, jeśli jest taka potrzeba.\n",
                "\n",
                "Czym się kierować przy wyborze regionu:\n",
                "- lokalne przepisy ograniczające przechowywanie danych np. poza UE\n",
                "- bliskość do klientów/użytkowników systemu\n",
                "- dostępność usług w regionach (nie wszystkie usługi AWS są dostępne w każdym regionie)\n",
                "- koszty (nie są równe pomiędzy regionami)\n",
                "\n",
                "Ponadto amazon dysponuje 187 punktami Point of Presence (w tym edge locations), wykorzystywanymi np. przez CloudFront (sieć dystrybucji CND) czy Route53 (serwer DNS)."
            ]
        },
        {
            "cell_type": "markdown",
            "metadata": {},
            "source": [
                "## Zarządzanie uprawnieniami\n",
                "\n",
                "System zarządzania uprawnieniami w AWS jest bardzo rozbudowany. Zakładając konto w AWS, otrzymujemy dostęp do tak zwanego konta *Root*. AWS rekomenduje, żeby w ogóle nie używać tego konta do codziennej pracy. Zalecane jest, aby korzystać z osobnego konta IAM, a konto *Root* wykorzystywać tylko wtedy, gdy to jest absolutnie konieczne. Ponadto nie powinno się tworzyć kluczy dostępowych do tego konta, dobrze jest też aktywować MFA. Związane jest to z przypisaniem maksymalnych uprawnień do tego konta, uzyskanie dostępu do konta *Root* pozwala uzyskać nieodwracalny dostęp do wszystkich zasobów w chmurze, konta *Root* nie można usunąć ani ograniczyć mu uprawnień.\n",
                "\n",
                "> **Wskazówka**: AWS CloudTrail pozwala śledzić wszystkie akcje administracyjne na koncie (darmowo za 90 ostatnich dni)\n",
                "\n",
                "AWS Identity and Access Management (IAM) to darmowa usługa pozwalająca na zarządzanie kontami użytkownika stworzonymi wewnątrz jednego konta głównego. Każde konto może posiadać własne uprawnienia, zapewniając w ten sposób bardzo precyzyjną kontrolę do zasobów i dostępnych akcji. Uprawnienia w IAM można przypisać w ramach:\n",
                "- użytkowników IAM (ang. user)\n",
                "- grup (ang. group): grupa użytkowników IAM\n",
                "- polityk (ang. policy): zestaw uprawnień w JSON\n",
                "- ról (ang. role): pozwalających tymczasowo zdobyć uprawnienia do danego zasobu, nie mają długo terminowych sposobów logowania, przyjmując role otrzymujesz tymczasowy dostęp, najczęściej przypisywane do innych zasobów (np. EC2 uzyskuje w ten sposób dostęp do S3)\n",
                "\n",
                "Logowanie do AWS na konto użytkownika IAM odbywa się analogicznie jak na konto *Root*: \n",
                "- programistycznie za pomocą Secret Access Key\n",
                "- w przeglądarce do Web Managment Console za pomocą loginu i hasła (+ MFA)\n",
                "\n",
                "Politykę dostępu definiowaną w postaci pliku JSON, można określić na dwa sposoby:\n",
                "- identity based: przypisane do użytkownika, grupy lub roli\n",
                "- resource based: przypisane do zasobu\n",
                "\n",
                "Domyślnym zachowaniem jest odmowa dostępu (ang. deny), ponadto reguły *deny* mają pierwszeństwo, jeśli gdziekolwiek jest reguła odmawiająca dostępu to nie zależnie od innych uprawnień dostęp do zasobu zostanie zablokowany.\n",
                "\n",
                "Usługa AWS Organizations uzupełnia IAM o obsługę hierarchii organizacyjnej dla dużych organizacji. Pozwala na zarządzanie kontami poprzez przypisanie ich do zdefiniowanych hierarchicznie jednostek organizacyjnych (OU), analogicznie jak w LDAP. W ramach organizacji możliwe jest zdefiniowanie Service Controlled Policy (SCP), które można przypisać do całej organizacji lub dowolnej jednostki organizacyjnej. SCP nie przyznaje uprawnień podaje natomiast maksymalny poziom uprawnień jaki może zostać przyznany przez IAM policy wszystkim użytkownikom i grupom w danej OU."
            ]
        }
    ],
    "metadata": {
        "author": "Patryk Żywica",
        "email": "bikol@amu.edu.pl",
        "kernelspec": {
            "display_name": "Python 3.10.6 64-bit",
            "language": "python",
            "name": "python3"
        },
        "lang": "pl",
        "language_info": {
            "codemirror_mode": {
                "name": "ipython",
                "version": 3
            },
            "file_extension": ".py",
            "mimetype": "text/x-python",
            "name": "python",
            "nbconvert_exporter": "python",
            "pygments_lexer": "ipython3",
            "version": "3.8.10"
        },
        "orig_nbformat": 4,
        "subtitle": "4.1.Kompleksowa publiczna chmura obliczeniowa - cz. 1[laboratoria]",
        "title": "Praktyczne zastosowania chmury obliczeniowej",
        "vscode": {
            "interpreter": {
                "hash": "916dbcbb3f70747c44a77c7bcd40155683ae19c65e1c03b4aa3499c5328201f1"
            }
        },
        "year": "2021"
    },
    "nbformat": 4,
    "nbformat_minor": 2
}
