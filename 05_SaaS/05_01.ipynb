{
    "cells": [
        {
            "cell_type": "markdown",
            "metadata": {
                "collapsed": false
            },
            "source": [
                "![Logo 1](https://git.wmi.amu.edu.pl/AITech/Szablon/raw/branch/master/Logotyp_AITech1.jpg)\n",
                "<div class=\"alert alert-block alert-info\">\n",
                "<h1> Praktyczne zastosowania chmury obliczeniowej </h1>\n",
                "<h2> 5.1. <i>Chmura obliczeniowa w modelu Software as a Service</i>  [laboratoria]</h2> \n",
                "<h3> Patryk Żywica (2021)</h3>\n",
                "</div>\n",
                "\n",
                "![Logo 2](https://git.wmi.amu.edu.pl/AITech/Szablon/raw/branch/master/Logotyp_AITech2.jpg)"
            ]
        },
        {
            "cell_type": "markdown",
            "metadata": {},
            "source": [
                "# Chmura obliczeniowa w modelu Software as a Service\n",
                "\n",
                "Chmura w modelu Software as a Service (SaaS) polega na udostępnieniu klientowi możliwości korzystania z aplikacji dostawcy działających w infrastrukturze chmury. Aplikacje są dostępne z różnych urządzeń klienckich za pośrednictwem lekkiego interfejsu klienta (ang. thin client), takiego jak przeglądarka internetowa (np. poczta e-mail oparta na sieci WWW) lub interfejsu programu. Konsument nie zarządza ani nie kontroluje podstawowej infrastruktury chmury, w tym sieci, serwerów, systemów operacyjnych, pamięci masowej, a nawet możliwości poszczególnych aplikacji, z możliwym wyjątkiem ograniczonych ustawień konfiguracji aplikacji specyficznych dla użytkownika. Usługi oferowane w tym modelu czasem nazywane są też oprogramowaniem na żądanie (ang. on-demand), webowym (ang. web-hosted, web-based) czy w pełni zarządzanym (ang. fully managed).\n",
                "\n",
                "\n",
                "Model SaaS nie wymaga pośredników zajmujących się sprzedażą czy wdrażaniem oprogramowania. Oprogramowanie takie jest wdrażane niemal natychmiast, eliminując w ten sposób potrzebę tradycyjnych partnerów i pośredników. W przeciwieństwie do tradycyjnego oprogramowania, które jest zwykle sprzedawane jako licencja wieczysta opłacana z góry, dostawcy SaaS zazwyczaj wyceniają aplikacje, korzystając z opłaty subskrypcyjnej, najczęściej miesięcznej lub rocznej. W związku z tym początkowy koszt konfiguracji SaaS jest zwykle niższy niż równoważnego oprogramowania dla przedsiębiorstw. Dostawcy SaaS zazwyczaj wyceniają swoje aplikacje na podstawie niektórych parametrów użytkowania, takich jak liczba użytkowników korzystających z aplikacji, czy czas korzystania z aplikacji. Jednak, ponieważ w środowisku SaaS oprogramowanie i dane znajdują się po stronie dostawcy, możliwe jest też naliczanie opłat w sposób bardziej szczegółowy np. za transakcję, zdarzenie lub inną jednostkę biznesową [DEE].\n",
                "\n",
                "Model dystrybucji oprogramowania oparty o SaaS jest już powszechnie stosowany w dziedzinach takich jak: oprogramowanie biurowe, komunikatory internetowe, poczta elektroniczna, bazy danych, CRM, czy księgowość. Ponadto dzięki wykorzystaniu efektu skali oraz infrastruktury chmurowej, bardzo często usługi oferowane są w modelu freemium, zapewniając podstawową funkcjonalność za darmo (ograniczony przez zużycie zasobów lub okres czasu)."
            ]
        },
        {
            "cell_type": "markdown",
            "metadata": {},
            "source": [
                "## Historia\n",
                "\n",
                "Początku historii modelu SaaS należy poszukiwać w latach 60-tych XX wieku. IBM rozpoczął wtedy oferowanie usług typu *service bureau* (nazywanych również *time-sharing* czy *utility computing*) [IBM]. Polegały one na udostępnieniu mocy obliczeniowej oraz bazy danych dla banków oraz innych dużych organizacji. Zasoby fizycznie znajdowały się w różnych centrach danych rozlokowanych na całym świecie, a sama usługa oferowała dostęp do ograniczonego oprogramowania. Na tym etapie rozwoju technologicznego pomysł ten nie zyskał dużej popularności.\n",
                "\n",
                "Dopiero rozwój Internetu umożliwił masowe wykorzystanie oprogramowania hostowanego przez dostawcę (ang. application service provider, ASP). Ciągły dostęp do usług zapewniany był  za pośrednictwem Internetu lub sieci prywatnej. W tym okresie ASP bardzo często tylko pośredniczył pomiędzy producentem oprogramowania a jego docelowym użytkownikiem, koncentrując swoją działalność wokół utrzymania i aktualizacji oprogramowania. Ważnym elementem pracy ASP była również pomoc i doradztwo związane z wdrożeniem i integracją oferowanej usługi z innymi systemami klienta.\n",
                "\n",
                "ASP najczęściej utrzymywał osobną instancję systemu dla każdego klienta, co zwiększało zarówno koszty infrastruktury jak i utrzymania. Kolejny etap rozwoju w kierunku współczesnego modelu SaaS związany jest z likwidacją tego ograniczenia. Dostawcy usług dzięki specjalizacji i rozwojowi oprogramowania zaczęli zmieniać architekturę oferowanych usług rezygnując z modelu pojedynczej dzierżawy (ang. single-tenant), na rzecz współdzielonej dzierżawy (ang. multi-tenant). W ten sposób znacznie zwiększone zostaje wykorzystanie zasobów sprzętowych, które przestają być głównym wyznacznikiem końcowej ceny dla klienta usługi. Umożliwiło to wprowadzenie opłat zgodnie ze zużyciem, mierzonych w jednostkach ściśle powiązanych z biznesowymi celami aplikacji. Przykładowo dla sklepu internetowego zamiast stałego cennika oferującego różne poziomy usługi (odpowiadające dostępnej przepustowości i dostępnym zasobom sprzętowym), możliwe było wyznaczenie ceny usługi w oparciu o liczbę klientów czy nawet poszczególnych transakcji.\n",
                "\n",
                "Ponadto dalsza popularyzacja Internetu i rozwój przeglądarek internetowych spowodował, że obecnie oprogramowanie w modelu SaaS nieodłącznie kojarzone jest z dostępem poprzez sieć WWW."
            ]
        },
        {
            "attachments": {},
            "cell_type": "markdown",
            "metadata": {},
            "source": [
                "## Cechy charakterystyczne usług SaaS\n",
                "\n",
                "\n",
                "1. Architektura oprogramowania: \n",
                "\n",
                "    Oprogramowanie oferowane w modelu SaaS najczęściej jest współdzielone pomiędzy wielu dzierżawców. Alternatywnie możliwe jest wykorzystanie wirtualizacji w celu równoczesnego uruchamiania wielu odseparowanych instancji dla różnych klientów. Niezależnie od wybranej strategii konieczne jest ścisłe dostosowanie architektury systemu do takiego środowiska. Stąd często dostawca usługi SaaS jest jednocześnie odpowiedzialny za wytwarzanie oprogramowania.\n",
                "1. Dostęp do usług\n",
                "\n",
                "    Dostęp do usług odbywa się praktycznie zawsze za pośrednictwem Internetu. Ponadto zdecydowana większość usług oferuje przynajmniej kluczowe funkcjonalności za pośrednictwem serwisu webowego. Powszechne jest też udostępnianie, często ustandaryzowanych, interfejsów programistycznych do systemów (API). Dzięki temu możliwa jest integracja usług SaaS z dotychczasowymi systemami klienta.\n",
                "1. Dostosowywanie systemu\n",
                "\n",
                "    Usługi SaaS nie oferują możliwości indywidualnej rekonfiguracji systemu na potrzeby konkretnego klienta. W zamian za to często udostępniają różne mechanizmy konfiguracji pozwalające na np. branding aplikacji czy integrację z zewnętrznymi systemami z wykorzystaniem predefiniowanych wtyczek.\n",
                "1. Zawsze aktualne oprogramowanie\n",
                "\n",
                "    Wszyscy klienci usługi korzystają z tej samej, najnowszej wersji oprogramowania. Aktualizacje są wykonywane po stronie dostawcy, w sposób ciągły i najczęściej bez przerw w dostępności usługi.\n",
                "    \n",
                "1. Cennik zgodny z potrzebami biznesowymi\n",
                "\n",
                "    Opłaty za usługi SaaS są bardzo często naliczana w oparciu o realne potrzeby biznesowe, a nie konsumpcję zasobów. Ponadto, wielu dostawców oferuje podstawowe funkcjonalności w modelu Freemium - darmowego ograniczonego (czasowo, funkcjonalnie lub przepustowością) dostępu do usługi.\n",
                "\n",
                "Ograniczenia w wykorzystaniu usług SaaS:\n",
                "* Dane przechowywane są u dostawcy, co może wiązać się z ryzykiem. W modelu SaaS znacznie trudniej zastosować techniki szyfrowania end-to-end, gdyż oprogramowanie uruchamiane jest po stronie dostawcy.\n",
                "* Usługi SaaS uruchamiane są w chmurze, a dostęp do nich wiąże się z opróżnieniem co utrudnia zastosowania, gdzie czas dostępu musi być bardzo niski (np. bazy danych)\n",
                "* Brak możliwości dopasowania do potrzeb klienta\n",
                "* Wysokie ryzyko przywiązania do dostawcy (vendor lockin)\n",
                "* Brak możliwości opóźnienia aktualizacji systemu\n",
                "* Potrzeba ciągłego dostępu do Internetu\n",
                "\n",
                "## Przykłady\n",
                "\n",
                "### Salesforce\n",
                "\n",
                "Najbardziej znanym przykładem firmy oferującej swoje usługi w modelu SaaS jest Salesforce. Założona w San Francisco w 1999 roku firma od samego początku działa wyłącznie w modelu SaaS. Świadczy usługę zarządzania relacjami z klientami (ang. customer relation management, CRM), a także dostarcza aplikacje dla przedsiębiorstw skoncentrowane na obsłudze klienta, automatyzacji marketingu, analityce i tworzeniu aplikacji. Jej rozwój i sukces w dużej mierze przyczynił się do popularyzacji sprzedawania oprogramowania jako usługi. Dzięki solidnym rozwiązaniom SaaS Salesforce obsługuje ponad 150 000 organizacji, niezależnie od ich wielkości i branży. \n",
                "\n",
                "\n",
                "### Microsoft 365\n",
                "Uruchomiona w 2013 roku usługa Microsoft 365 oferowana wcześniej pod nazwą Office 365, jest webowym odpowiednikiem desktopowej wersji pakietu Microsoft Office. Umożliwia korzystanie z oprogramowania i innych usług w modelu SaaS (subskrypcja), a użytkownicy otrzymują aktualizacje oprogramowania przez cały okres subskrypcji, co znacząco różni się od klasycznego modelu sprzedaży licencji „on-premises”. W 2017 roku zyski ze sprzedaży wersji webowej przekroczyły te osiągane przez klasyczny pakiet Microsoft Office. Pokazuje to jak szybko nowy model pozwolił zdominować jak się by się mogło wydawać bardzo stabilny rynek pakietów biurowych.\n",
                "\n",
                "\n",
                "### GitHub\n",
                "\n",
                "W 2005 roku udostępniona zostaje pierwsza wersja rozproszonego systemu kontroli wersji - Git. Oprogramowanie zostało stworzone na potrzeby rozwoju jądra systemu Linux i jest darmowe na licencji GPL 2.0. Rozproszona architektura Gita, oznaczała, że każda kopia repozytorium może być pełnoprawnym serwerem.\n",
                "\n",
                "W 2008 roku powstaje usługa GitHub, komercyjna, hostowana w modelu SaaS wersja systemu Git. Pomimo, że oryginalny Git jest darmowy i łatwy w konfiguracji, GitHub bardzo szybko zyskuje na popularności, stając się synonimem systemu kontroli wersji. Obecnie mało kto korzysta z Gita bez pośrednictwa usług typu GitHub (GitLab, BitBucket, itp.)\n",
                "\n",
                "\n",
                "### Zarządzane bazy danych\n",
                "\n",
                "Baza danych to serce bardzo wielu systemów informatycznych. Od jej utrzymania i poprawnego działania zależą wszystkie usługi oferowane przez system. Stąd administracja tym komponentem systemu stawała się kluczowym problemem w długotrwałym rozwoju oprogramowania, pochłaniając dużo zasobów i generując błędy.\n",
                "\n",
                "Popularyzacja modelu SaaS, objęła również bazy danych. Praktycznie każdy duży dostawca chmury obliczeniowej oferuje obecnie bazę danych w modelu SaaS. Model ten często też jest nazywany DBaaS (ang. Database as a Service). Oprogramowanie bazy danych udostępniane klientowi na serwerach zarządzanych przez dostawcę usługi, jest też przez niego utrzymywane i aktualizowane. W zależności od typu bazy danych są to rozwiązania single-tenant (najczęściej klasyczne bazy SQL) lub multi-tenant (bazy NoSQL, autorskie silniki SQL).\n",
                "\n",
                "Przykładowo w ofercie firmy Amazon znajdują się następujące bazy danych:\n",
                "* Relational Database Service (RDS)\n",
                "* Aurora\n",
                "* Lightsail Databases\n",
                "* DynamoDB\n",
                "\n",
                "Bazy RDS (dostępne są PostgreSQL, MySql, MariaDB, Oracle oraz Microsoft SQL Server) to przykład hostowanej w chmurze bazy danych, w której dostawca przejmuje tylko część obowiązków związanych z jej utrzymaniem (zapewnienie sprzętu, konfiguracja bazy, łatki bezpieczeństwa oraz kopie zapasowe). Są one udostępniane w modelu single-tenant, a klient zachowuje dostęp do maszyny wirtualnej na której uruchomiona jest baza.\n",
                "\n",
                "Baza Aurora to autorski silnik bazodanowy opracowany przez Amazon, który jest zgodny z PostgreSQL oraz MySql. W odróżnieniu od standardowych baz RDS, Aurora jest usługą w pełni zarządzaną, a dostawca przejmuje prawie całą odpowiedzialność za oprogramowanie.\n",
                "\n",
                "Pierwsze dwie usługi trudno uznać za pełnoprawny SaaS, gdyż opłaty wciąż naliczane są za zasoby oraz dostawca nie przejmuje całości odpowiedzialności za oprogramowanie. Następne usługi to już pełnoprawny SaaS, ze wszystkimi cechami charakterystycznymi.\n",
                "\n",
                "Usługa Lightsail Databases pozwala na stworzenie w pełni zarządzanych baz danych MySql i PostgreSQL, oferowanych w dostępie subskrypcyjnym.\n",
                "\n",
                "DynamoDB to w pełni zarządzany, autorski silnik bazodanowy typu NoSQL. Oferowany w modelu płatności za zużyte zasoby, gdzie opłaty naliczane są nie tylko za ilość przechowywanych danych, ale również za różne operacje na bazie danych (dodawanie danych, odczyt danych, itp.).\n"
            ]
        },
        {
            "cell_type": "markdown",
            "metadata": {},
            "source": [
                "\n",
                "## Zadania do realizacji na zajęciach\n",
                "\n",
                "### Podstawowa obsługa DynamoDB w AWS Console\n",
                "\n",
                "1. Zaloguj się do Learner Labs i wejdź do konsoli AWS.\n",
                "1. Wybierz usługę DynamoDB a następnie opcję `Create Table`:\n",
                "    * nazwa: `pzc-test`\n",
                "    * klucz: `id : number`\n",
                "    * klasa: `standard`\n",
                "    * przepustowość: `on-demand`\n",
                "    * szyfrowanie: `owned by Amazon DynamoDB`\n",
                "1. Przejdź do zakładki `Items` i wybierz nowo utworzoną tabelę. Dodaj nowy element do tablicy o dowolnej strukturze.\n",
                "\n",
                "### Dostęp do DynamoDB za pomocą biblioteki Python"
            ]
        },
        {
            "cell_type": "code",
            "execution_count": 1,
            "metadata": {},
            "outputs": [
                {
                    "name": "stdout",
                    "output_type": "stream",
                    "text": [
                        "status: UPDATING, items: 0\n",
                        "{'id': Decimal('0'), 'name': 'moja nazwa'}\n",
                        "status: UPDATING, items: 0\n"
                    ]
                }
            ],
            "source": [
                "# niezbędna konfiguracja danych dostępowych, pamiętaj aby nigdy jej nie udostępniać publicznie\n",
                "aws_access_key_id='xxx'\n",
                "aws_secret_access_key='xxx'\n",
                "aws_session_token='xxx'\n",
                "\n",
                "# biblioteka dostępowa do AWS\n",
                "import boto3\n",
                "\n",
                "from decimal import Decimal\n",
                "import zipfile\n",
                "import io\n",
                "import urllib\n",
                "import json\n",
                "\n",
                "# tworzymy zasób odpowiedzialny za połączenie z DynamoDB. *Resource* oferuje API wyższego poziomu niż *Client*\n",
                "dynamodb = boto3.resource(\n",
                "    service_name='dynamodb',\n",
                "    region_name = 'us-east-1',\n",
                "    aws_access_key_id=aws_access_key_id,\n",
                "    aws_secret_access_key=aws_secret_access_key,\n",
                "    aws_session_token=aws_session_token\n",
                ")\n",
                "\n",
                "# tworzymy zasób odpowiedzialny za połączenie z naszą tabelą DynamoDB.\n",
                "table = dynamodb.Table('pzc-test')\n",
                "\n",
                "# sprawdzamy liczbę elementów i status tabeli\n",
                "print(f\"status: {table.table_status}, items: {table.item_count}\")\n",
                "\n",
                "# wyświetlamy elementy tabeli\n",
                "# UWAGA: komenda scan nie musi zwrócić wszystkich elementów tablicy !\n",
                "result = table.scan()\n",
                "for item in result['Items']:\n",
                "    print(item)\n",
                "\n",
                "# dodanie nowego elementu do tabeli\n",
                "response = table.put_item(Item={'id': 14, 'name': 'test'})\n",
                "\n",
                "# przeładowanie informacji o tabeli\n",
                "table.reload()\n",
                "# wciąż liczba elementów to 0, podobnie jak w konsoli AWS\n",
                "print(f\"status: {table.table_status}, items: {table.item_count}\")"
            ]
        },
        {
            "cell_type": "markdown",
            "metadata": {},
            "source": [
                "### Bardziej zaawansowany przykład\n",
                "\n",
                "Spróbujmy teraz załadować większy zbiór danych do nowej tabeli."
            ]
        },
        {
            "cell_type": "code",
            "execution_count": 2,
            "metadata": {},
            "outputs": [
                {
                    "name": "stdout",
                    "output_type": "stream",
                    "text": [
                        "Table status: CREATING\n",
                        "Table status: ACTIVE\n"
                    ]
                }
            ],
            "source": [
                "# stworzenie tabeli w API daje nam większe możliwości konfiguracji niż AWS Console\n",
                "movie_table = dynamodb.create_table(\n",
                "    TableName='Movies',\n",
                "    # klucz złożony rok+tytuł\n",
                "    KeySchema=[\n",
                "        {\n",
                "            'AttributeName': 'year',\n",
                "            'KeyType': 'HASH'  # Partition key\n",
                "        },\n",
                "        {\n",
                "            'AttributeName': 'title',\n",
                "            'KeyType': 'RANGE'  # Sort key\n",
                "        }\n",
                "    ],\n",
                "    AttributeDefinitions=[\n",
                "        {\n",
                "            'AttributeName': 'year',\n",
                "            'AttributeType': 'N' # liczba, N: Number\n",
                "        },\n",
                "        {\n",
                "            'AttributeName': 'title',\n",
                "            'AttributeType': 'S' # napis: S: String\n",
                "        },\n",
                "\n",
                "    ],\n",
                "    # naliczanie on-demand, w nie jest to opcja domyślna\n",
                "    BillingMode=\"PAY_PER_REQUEST\"\n",
                ")\n",
                "\n",
                "# create_table to metoda asynchronicza, zwraca wartość natychmiastowo, jednak tabela jeszcze wtedy nie istnieje\n",
                "print(\"Table status:\", movie_table.table_status)\n",
                "# metoda ta pozwala na odczekanie do czasu utworzenia tabeli\n",
                "movie_table.wait_until_exists()\n",
                "movie_table.reload()\n",
                "print(\"Table status:\", movie_table.table_status)"
            ]
        },
        {
            "cell_type": "markdown",
            "metadata": {},
            "source": [
                "Teraz dodajmy elementy do bazy. Wykorzystamy standardowy plik z bazą plików udostępniony przez Amazon."
            ]
        },
        {
            "cell_type": "code",
            "execution_count": 3,
            "metadata": {},
            "outputs": [
                {
                    "name": "stdout",
                    "output_type": "stream",
                    "text": [
                        "{'year': 2013, 'title': 'Prisoners', 'info': {'directors': ['Denis Villeneuve'], 'release_date': '2013-08-30T00:00:00Z', 'rating': Decimal('8.2'), 'genres': ['Crime', 'Drama', 'Thriller'], 'image_url': 'http://ia.media-imdb.com/images/M/MV5BMTg0NTIzMjQ1NV5BMl5BanBnXkFtZTcwNDc3MzM5OQ@@._V1_SX400_.jpg', 'plot': \"When Keller Dover's daughter and her friend go missing, he takes matters into his own hands as the police pursue multiple leads and the pressure mounts. But just how far will this desperate father go to protect his family?\", 'rank': 3, 'running_time_secs': 9180, 'actors': ['Hugh Jackman', 'Jake Gyllenhaal', 'Viola Davis']}}\n"
                    ]
                }
            ],
            "source": [
                "import time\n",
                "import itertools\n",
                "\n",
                "# ładujemy plik .zip umieszczony pod adresem URL\n",
                "raw_data = urllib.request.urlopen('https://docs.aws.amazon.com/amazondynamodb/latest/developerguide/samples/moviedata.zip')\n",
                "# aby uniknąć tworzenia plików tymczasowych, łądujemy plik do pamięci, nie jest to dobre rozwiązanie dla naprawdę dużych plików\n",
                "z = zipfile.ZipFile(io.BytesIO(raw_data.read()))\n",
                "# uruchamiamy parser JSON, wszystko odbywa się w pamięci\n",
                "movie_list = json.loads(z.read(z.infolist()[0]).decode(), parse_float=Decimal)\n",
                "# wyświetlamy pierwszy film z listy\n",
                "print(movie_list[1])"
            ]
        },
        {
            "cell_type": "markdown",
            "metadata": {},
            "source": [
                "Teraz możemy dodać filmy do tabeli."
            ]
        },
        {
            "cell_type": "code",
            "execution_count": 6,
            "metadata": {},
            "outputs": [
                {
                    "name": "stdout",
                    "output_type": "stream",
                    "text": [
                        "Added movie: 2013: Rush in 0.124s\n",
                        "Added movie: 2013: Prisoners in 0.128s\n",
                        "Added movie: 2013: The Hunger Games: Catching Fire in 0.118s\n",
                        "Added movie: 2013: Thor: The Dark World in 0.649s\n",
                        "Added movie: 2013: This Is the End in 0.123s\n",
                        "Added movie: 2013: Insidious: Chapter 2 in 0.122s\n",
                        "Added movie: 2013: World War Z in 0.124s\n",
                        "Added movie: 2014: X-Men: Days of Future Past in 0.617s\n",
                        "Added movie: 2014: Transformers: Age of Extinction in 0.117s\n",
                        "Added movie: 2013: Now You See Me in 0.121s\n",
                        "Added movie: 2013: Gravity in 0.127s\n",
                        "Added movie: 2013: We're the Millers in 0.119s\n",
                        "Added movie: 2013: Riddick in 0.117s\n",
                        "Added movie: 2013: The Family in 0.119s\n",
                        "Added movie: 2013: Star Trek Into Darkness in 0.116s\n",
                        "Added movie: 2013: After Earth in 0.117s\n",
                        "Added movie: 2013: The Great Gatsby in 0.120s\n",
                        "Added movie: 2014: Divergent in 0.128s\n",
                        "Added movie: 2013: We Are What We Are in 0.116s\n",
                        "Added movie: 2013: Iron Man 3 in 0.117s\n",
                        "Added movie: 2014: The Amazing Spider-Man 2 in 0.117s\n",
                        "Added movie: 2013: Curse of Chucky in 0.117s\n",
                        "Added movie: 2013: The Conjuring in 0.117s\n",
                        "Added movie: 2013: Oldboy in 0.116s\n",
                        "Added movie: 2013: Escape Plan in 0.118s\n",
                        "Added movie: 2013: Elysium in 0.118s\n",
                        "Added movie: 2013: Cloudy with a Chance of Meatballs 2 in 0.118s\n",
                        "Added movie: 2014: RoboCop in 0.116s\n",
                        "Added movie: 2013: Carrie in 0.119s\n",
                        "Added movie: 2013: The Mortal Instruments: City of Bones in 0.117s\n",
                        "Added movie: 2014: Captain America: The Winter Soldier in 0.118s\n",
                        "Added movie: 2014: Need for Speed in 0.116s\n",
                        "Added movie: 2013: Runner Runner in 0.119s\n",
                        "Added movie: 2013: I Spit on Your Grave 2 in 0.117s\n",
                        "Added movie: 2013: Battle of the Year in 0.117s\n",
                        "Added movie: 2013: Behind the Candelabra in 0.118s\n",
                        "Added movie: 2013: No se Aceptan Devoluciones in 0.140s\n",
                        "Added movie: 2013: The Bling Ring in 0.117s\n",
                        "Added movie: 2013: Furious 6 in 0.140s\n",
                        "Added movie: 2013: Machete Kills in 0.118s\n",
                        "Added movie: 2013: 12 Years a Slave in 0.118s\n",
                        "Added movie: 2013: The World's End in 0.122s\n",
                        "Added movie: 2012: Pitch Perfect in 0.118s\n",
                        "Added movie: 2013: Epic in 0.119s\n",
                        "Added movie: 2012: The Avengers in 0.117s\n",
                        "Added movie: 2013: Metallica Through the Never in 0.117s\n",
                        "Added movie: 2013: Oblivion in 0.136s\n",
                        "Added movie: 2013: Dom Hemingway in 0.117s\n",
                        "Added movie: 2013: The Hangover Part III in 0.117s\n",
                        "Added movie: 2013: Despicable Me 2 in 0.118s\n",
                        "Added movie: 2013: The Butler in 0.120s\n",
                        "Added movie: 2014: Dumb and Dumber To in 0.117s\n",
                        "Added movie: 2013: Blue Jasmine in 0.116s\n",
                        "Added movie: 2013: Ender's Game in 0.116s\n",
                        "Added movie: 2013: White House Down in 0.117s\n",
                        "Added movie: 2013: Pain & Gain in 0.118s\n",
                        "Added movie: 2013: 2 Guns in 0.117s\n",
                        "Added movie: 2012: The Dark Knight Rises in 0.116s\n",
                        "Added movie: 2012: The Place Beyond the Pines in 0.122s\n",
                        "Added movie: 2014: Fast & Furious 7 in 0.116s\n",
                        "Added movie: 2013: jOBS in 0.120s\n",
                        "Added movie: 2012: Disconnect in 0.117s\n",
                        "Added movie: 2011: Bridesmaids in 0.116s\n",
                        "Added movie: 2013: Man of Steel in 0.118s\n",
                        "Added movie: 2013: Ghost Team One in 0.117s\n",
                        "Added movie: 2010: Insidious in 0.116s\n",
                        "Added movie: 2014: Godzilla in 0.116s\n",
                        "Added movie: 2012: Wreck-It Ralph in 0.116s\n",
                        "Added movie: 2013: The Hobbit: The Desolation of Smaug in 0.117s\n",
                        "Added movie: 2013: Frozen in 0.117s\n",
                        "Added movie: 2012: Spring Breakers in 0.121s\n",
                        "Added movie: 2014: Fifty Shades of Grey in 0.116s\n",
                        "Added movie: 2012: Silver Linings Playbook in 0.117s\n",
                        "Added movie: 2013: R.I.P.D. in 0.117s\n",
                        "Added movie: 1994: The Shawshank Redemption in 0.117s\n",
                        "Added movie: 2013: Pacific Rim in 0.116s\n",
                        "Added movie: 2012: The Hunger Games in 0.122s\n",
                        "Added movie: 2013: The Last Days on Mars in 0.118s\n",
                        "Added movie: 2013: Baggage Claim in 0.117s\n",
                        "Added movie: 2013: Percy Jackson: Sea of Monsters in 0.122s\n",
                        "Added movie: 2012: Byzantium in 0.120s\n",
                        "Added movie: 2011: X-Men: First Class in 0.117s\n",
                        "Added movie: 1993: Hocus Pocus in 0.116s\n",
                        "Added movie: 2013: The East in 0.117s\n",
                        "Added movie: 2013: V/H/S/2 in 0.117s\n",
                        "Added movie: 2013: The Croods in 0.116s\n",
                        "Added movie: 2013: Olympus Has Fallen in 0.117s\n",
                        "Added movie: 2013: Hummingbird in 0.116s\n",
                        "Added movie: 2013: About Time in 0.119s\n",
                        "Added movie: 2012: Mud in 0.117s\n",
                        "Added movie: 2012: Argo in 0.117s\n",
                        "Added movie: 2012: Django Unchained in 0.116s\n",
                        "Added movie: 2013: Grown Ups 2 in 0.116s\n",
                        "Added movie: 2008: The Dark Knight in 0.122s\n",
                        "Added movie: 2013: Planes in 0.117s\n",
                        "Added movie: 2013: Captain Phillips in 0.118s\n",
                        "Added movie: 2012: The Hobbit: An Unexpected Journey in 0.118s\n",
                        "Added movie: 2014: Guardians of the Galaxy in 0.118s\n",
                        "Added movie: 2012: Les Miserables in 0.117s\n",
                        "Added movie: 2013: The Kings of Summer in 0.116s\n",
                        "Średni czas dodawania elementu do tabeli: 0.129s\n"
                    ]
                }
            ],
            "source": [
                "total = 0.0\n",
                "N = 100\n",
                "# dodamy tylko pierwsze 100 filmow z bazy\n",
                "for movie in itertools.islice(movie_list, N):\n",
                "    start = time.time()\n",
                "    movie_table.put_item(Item=movie)\n",
                "    end = time.time()\n",
                "    print(f\"Added movie: {int(movie['year'])}: {movie['title']} in {end-start:.3f}s\")\n",
                "    total += end - start\n",
                "\n",
                "print(f\"Średni czas dodawania elementu do tabeli: {total/N:.3f}s\")"
            ]
        },
        {
            "cell_type": "markdown",
            "metadata": {},
            "source": [
                "Wyszukajmy teraz filmy z 2012 roku."
            ]
        },
        {
            "cell_type": "code",
            "execution_count": 7,
            "metadata": {},
            "outputs": [
                {
                    "name": "stdout",
                    "output_type": "stream",
                    "text": [
                        "2012 : Argo\n",
                        "2012 : Byzantium\n",
                        "2012 : Disconnect\n",
                        "2012 : Django Unchained\n",
                        "2012 : Les Miserables\n",
                        "2012 : Mud\n",
                        "2012 : Pitch Perfect\n",
                        "2012 : Silver Linings Playbook\n",
                        "2012 : Spring Breakers\n",
                        "2012 : The Avengers\n",
                        "2012 : The Dark Knight Rises\n",
                        "2012 : The Hobbit: An Unexpected Journey\n",
                        "2012 : The Hunger Games\n",
                        "2012 : The Place Beyond the Pines\n",
                        "2012 : Wreck-It Ralph\n"
                    ]
                }
            ],
            "source": [
                "from boto3.dynamodb.conditions import Key\n",
                "\n",
                "response = movie_table.query(KeyConditionExpression=Key('year').eq(2012))\n",
                "for movie in response['Items']:\n",
                "    print(movie['year'], \":\", movie['title'])"
            ]
        },
        {
            "cell_type": "markdown",
            "metadata": {},
            "source": [
                "Na koniec możemy usunąć tabelę."
            ]
        },
        {
            "cell_type": "code",
            "execution_count": 8,
            "metadata": {},
            "outputs": [],
            "source": [
                "movie_table.delete()\n",
                "movie_table.wait_until_not_exists()"
            ]
        },
        {
            "cell_type": "markdown",
            "metadata": {},
            "source": [
                "\n",
                "\n",
                "# Literatura\n",
                "\n",
                "* [DEE]: Byron Deeter and Ryan Jung (July 2013). \"[Software as a Service Pricing Strategies](https://bvp.box.com/shared/static/05d7zb2zi64q7rbv1opl.pdf)\"\n",
                "* [IBM]: R. J. Creasy. The Origin of the VM/370 Time-sharing System. IBM. 1981\n",
                "* [BOTO]: [Dokumentacja biblioteki Boto3](https://boto3.amazonaws.com/v1/documentation/api/latest/reference/services/dynamodb.html)\n"
            ]
        }
    ],
    "metadata": {
        "author": "Patryk Żywica",
        "email": "bikol@amu.edu.pl",
        "kernelspec": {
            "display_name": "base",
            "language": "python",
            "name": "python3"
        },
        "lang": "pl",
        "language_info": {
            "codemirror_mode": {
                "name": "ipython",
                "version": 3
            },
            "file_extension": ".py",
            "mimetype": "text/x-python",
            "name": "python",
            "nbconvert_exporter": "python",
            "pygments_lexer": "ipython3",
            "version": "3.10.6"
        },
        "subtitle": "5.1.Chmura obliczeniowa w modelu Software as a Service[laboratoria]",
        "title": "Praktyczne zastosowania chmury obliczeniowej",
        "vscode": {
            "interpreter": {
                "hash": "d4d1e4263499bec80672ea0156c357c1ee493ec2b1c70f0acce89fc37c4a6abe"
            }
        },
        "year": "2021"
    },
    "nbformat": 4,
    "nbformat_minor": 4
}
